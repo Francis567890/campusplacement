{
  "nbformat": 4,
  "nbformat_minor": 0,
  "metadata": {
    "colab": {
      "provenance": []
    },
    "kernelspec": {
      "name": "python3",
      "display_name": "Python 3"
    },
    "language_info": {
      "name": "python"
    }
  },
  "cells": [
    {
      "cell_type": "code",
      "source": [
        "import numpy as np\n",
        "import pandas as pd\n",
        "import os"
      ],
      "metadata": {
        "id": "ql86vehd-Oxf"
      },
      "execution_count": 1,
      "outputs": []
    },
    {
      "cell_type": "code",
      "source": [
        "\n",
        "import seaborn as sns\n",
        "import matplotlib.pyplot as plt\n",
        "from sklearn import svm\n",
        "from sklearn.metrics import accuracy_score\n",
        "from sklearn.neighbors import KNeighborsClassifier\n",
        "from sklearn import metrics\n",
        "from sklearn.model_selection import cross_val_score\n",
        "from sklearn import preprocessing\n",
        "from sklearn.model_selection import train_test_split\n",
        "from  sklearn.preprocessing import StandardScaler\n",
        "import joblib\n",
        "from sklearn.metrics import accuracy_score"
      ],
      "metadata": {
        "id": "TNp8OIqfPRG1"
      },
      "execution_count": 2,
      "outputs": []
    },
    {
      "cell_type": "code",
      "source": [
        "df = pd.read_csv(r\"/content/collegePlace.csv\\\")\n",
        "    df.head()"
      ],
      "metadata": {
        "id": "qBDriAeo6hPv",
        "outputId": "0daf0b11-f8ed-49cb-b564-69f5caf3e2fe",
        "colab": {
          "base_uri": "https://localhost:8080/",
          "height": 130
        }
      },
      "execution_count": 3,
      "outputs": [
        {
          "output_type": "error",
          "ename": "SyntaxError",
          "evalue": "ignored",
          "traceback": [
            "\u001b[0;36m  File \u001b[0;32m\"<ipython-input-3-c61071836949>\"\u001b[0;36m, line \u001b[0;32m1\u001b[0m\n\u001b[0;31m    df = pd.read_csv(r\"/content/collegePlace.csv\\\")\u001b[0m\n\u001b[0m                                                   ^\u001b[0m\n\u001b[0;31mSyntaxError\u001b[0m\u001b[0;31m:\u001b[0m EOL while scanning string literal\n"
          ]
        }
      ]
    },
    {
      "cell_type": "markdown",
      "source": [
        "# New Section"
      ],
      "metadata": {
        "id": "p7tDMiFczbXN"
      }
    },
    {
      "cell_type": "code",
      "source": [
        "df.info"
      ],
      "metadata": {
        "id": "aQ8CDRyiNhrL"
      },
      "execution_count": null,
      "outputs": []
    },
    {
      "cell_type": "code",
      "source": [
        "df.isnull().sum()"
      ],
      "metadata": {
        "id": "IpeKx4A7wHM5"
      },
      "execution_count": null,
      "outputs": []
    },
    {
      "cell_type": "code",
      "source": [
        "def transformationplot(feature);\n",
        "   plt.figure(figsize=(12,5))\n",
        "   plt.subplot(1,2,1)\n",
        "   sns.displot(feature)\n",
        "\n",
        "   transformationplot(np.log(df{'age'}))"
      ],
      "metadata": {
        "id": "1k8IXXj_uuga"
      },
      "execution_count": null,
      "outputs": []
    },
    {
      "cell_type": "code",
      "source": [],
      "metadata": {
        "id": "MKAFCpC2v3R9"
      },
      "execution_count": null,
      "outputs": []
    },
    {
      "cell_type": "code",
      "source": [
        "df = df.replace(['Male'],[0])\n",
        "df = df.replace(['Female'],[0])\n"
      ],
      "metadata": {
        "id": "sXUeybNq4sPG"
      },
      "execution_count": null,
      "outputs": []
    },
    {
      "cell_type": "code",
      "source": [
        "df = df.replace(['Computer science','Information technology','Electronics and communication','Mechanical','Electrical','Civil'],[0,1,2,3,4,5])"
      ],
      "metadata": {
        "id": "MxARv8I8w-wB"
      },
      "execution_count": null,
      "outputs": []
    },
    {
      "cell_type": "code",
      "source": [
        "df = df.drop(['Hostel'],axis=1)"
      ],
      "metadata": {
        "id": "zs3VCAa1yYAc"
      },
      "execution_count": null,
      "outputs": []
    },
    {
      "cell_type": "code",
      "source": [
        "df"
      ],
      "metadata": {
        "id": "ngHaAfSCyujL"
      },
      "execution_count": null,
      "outputs": []
    },
    {
      "cell_type": "code",
      "source": [
        "plt.figure(figsize=(12,5))\n",
        "plt.subplot(121)\n",
        "sns.displot(df['CGPA'],color='r')"
      ],
      "metadata": {
        "id": "lhAIK5OdyvgQ"
      },
      "execution_count": null,
      "outputs": []
    },
    {
      "cell_type": "code",
      "source": [
        "plt.figure(figsize=(12,5))\n",
        "plt.subplot(121)\n",
        "sns.displot(df['placeorNot'],color='r')"
      ],
      "metadata": {
        "id": "KBb27hW90CYW"
      },
      "execution_count": null,
      "outputs": []
    },
    {
      "cell_type": "code",
      "source": [
        "#plotting the count plot\n",
        "plt.figure(figsize=(18,4))\n",
        "plt.subplot(1,4,2)\n",
        "sns.countplot(data['Gender'])\n",
        "plt.sunplot(1,4,2)\n",
        "sns.complot(data['Education'])\n",
        "plt.show()"
      ],
      "metadata": {
        "id": "NUx1OkbV0aHD"
      },
      "execution_count": null,
      "outputs": []
    },
    {
      "cell_type": "code",
      "source": [
        "plt.figure(figsize=(12,5))\n",
        "plt.subplot(121)\n",
        "sns.displot(df['placeorNot'],hue=df['CGPA'])"
      ],
      "metadata": {
        "id": "8SjfOr8w2JuA"
      },
      "execution_count": null,
      "outputs": []
    },
    {
      "cell_type": "code",
      "source": [
        "sns.swarmplot(df['placeorNot']df['CGPA'],hue=df['Stream'])"
      ],
      "metadata": {
        "id": "yfbCF1-u2jxK"
      },
      "execution_count": null,
      "outputs": []
    },
    {
      "cell_type": "code",
      "source": [
        "sc=StandardScaler()\n",
        "x_bal=sc.fit_transform(x,ball)"
      ],
      "metadata": {
        "id": "QCrSbbQk3U8Q"
      },
      "execution_count": null,
      "outputs": []
    },
    {
      "cell_type": "code",
      "source": [
        "x_bal = pd.DataFrame(x_bal,columns=names)"
      ],
      "metadata": {
        "id": "WgNT_FkE3v6E"
      },
      "execution_count": null,
      "outputs": []
    },
    {
      "cell_type": "code",
      "source": [
        "X = standardized_data\n",
        "Y = df['PlaceorNot']"
      ],
      "metadata": {
        "id": "EDgjwQzq4BFb"
      },
      "execution_count": null,
      "outputs": []
    },
    {
      "cell_type": "code",
      "source": [
        "X_train,X_test,Y_test =  train_test_split(X,Y, test_size = 0.2, stratify=Y,random_state=2)"
      ],
      "metadata": {
        "id": "QA6eWJZq4jhq"
      },
      "execution_count": null,
      "outputs": []
    },
    {
      "cell_type": "code",
      "source": [
        "classifier = svm.SVC(kernal='linear')"
      ],
      "metadata": {
        "id": "v98JtaLzow2E"
      },
      "execution_count": null,
      "outputs": []
    },
    {
      "cell_type": "code",
      "source": [
        "classifier.fit(X_train, Y_train )"
      ],
      "metadata": {
        "id": "4Jo93kVCpMX5"
      },
      "execution_count": null,
      "outputs": []
    },
    {
      "cell_type": "code",
      "source": [
        "SVC(kernal='linear')"
      ],
      "metadata": {
        "id": "_pSVbI85pc_2"
      },
      "execution_count": null,
      "outputs": []
    },
    {
      "cell_type": "code",
      "source": [
        "X_train_prediction = classifier.predit(X_train)\n",
        "training_data_accuracy = accuracy_score(X_train_prediction,Y_train)"
      ],
      "metadata": {
        "id": "wUA3CXSHpn6S"
      },
      "execution_count": null,
      "outputs": []
    },
    {
      "cell_type": "code",
      "source": [
        "print('Accuracy score of the training data : ', training_data_accuracy)"
      ],
      "metadata": {
        "id": "tJMPqjqhqf4c"
      },
      "execution_count": null,
      "outputs": []
    },
    {
      "cell_type": "code",
      "source": [
        "best_k = {\"Regular\":0}\n",
        "best_score = {\"Regular\":0}\n",
        "for k in range(3,50,2):\n",
        "\n",
        "\n",
        "       ## useing Regular training set \n",
        "       knn_temp = kneighborClassifier(n_neighbors=k)\n",
        "       knn_temp.fit(X_train, Y_train)\n",
        "       knn_temp_pred- knn_temp.predict(X_test)\n",
        "       score- metrics.accuracy_score(Y_test,knn_temp_pred)*100\n",
        "       if score >= best_score[\"Regular\"] and score< 100:\n",
        "              best_score[\"Regular\"] = score\n",
        "              best_k[\"Regular\"] =k      "
      ],
      "metadata": {
        "id": "3PCk5XYjrE9R"
      },
      "execution_count": null,
      "outputs": []
    },
    {
      "cell_type": "code",
      "source": [
        "print(\"___Results---\\mk:{}\\nscore;{}\".format(best_k,best_score))\n",
        "##Instantiate the models\n",
        "knn =  kneighborClassifier(n_neighbors=k[\"Regular\"])\n",
        "## fit the model to the training set\n",
        "knn.fit(X_train,Y_train)\n",
        "knn_pred = knn.predict(X_test)\n",
        "testd = accuracy_score(knn_pred, Y_test)"
      ],
      "metadata": {
        "id": "JifQs7WWuBU6"
      },
      "execution_count": null,
      "outputs": []
    },
    {
      "cell_type": "code",
      "source": [
        "import tensorflow as tf\n",
        "from tensorflow import keras\n",
        "from keras.models import Sequential\n",
        "from tensorflow.keras import layers"
      ],
      "metadata": {
        "id": "ZAgnJRNWwdGv"
      },
      "execution_count": null,
      "outputs": []
    },
    {
      "cell_type": "code",
      "source": [
        "[]  classifier =  Sequential()\n",
        "\n",
        "       #add input layer and first hidden layer\n",
        "        claasifier.add(keras.layers.Dense(6,activation ='relu' input_dim=6))\n",
        "        classifier.add(keras.layers.Dropout(0,50))\n",
        "       #add 2ne hidden layer\n",
        "       classifier.add(keras.layers.Dense(6,activation = 'relu')\n",
        "       classifier.add(kerad.layer.dropout(0,50))\n",
        "\n",
        "       #final or output layer\n",
        "       classifier.add(keras.layers.dense(1,activation ='sigmoid'))"
      ],
      "metadata": {
        "id": "ot9GOBBTwY0u"
      },
      "execution_count": null,
      "outputs": []
    },
    {
      "cell_type": "code",
      "source": [
        "[  ] #compiling the model \n",
        "loss_1= tf.keras.losses.BinaryCressentropy()\n",
        "classifier.compile(optimizwr = 'Adam', loss = loss_1 ,metrics = ['accuracy'])\n"
      ],
      "metadata": {
        "id": "UhjpfEKY0Y_x"
      },
      "execution_count": null,
      "outputs": []
    },
    {
      "cell_type": "code",
      "source": [
        "classifier.fit(x_train,y_train, batch_size = 20, epochs = 100)"
      ],
      "metadata": {
        "id": "UniNXibO1mIw"
      },
      "execution_count": null,
      "outputs": []
    },
    {
      "cell_type": "code",
      "source": [
        "[ ] import pickle\n",
        "pickle.dump(knn,open(\"placement.pkl\",'wb'))\n",
        "model = pickle.load(open('placement.pkl', 'rb'))"
      ],
      "metadata": {
        "id": "6KshlKUw2C66"
      },
      "execution_count": null,
      "outputs": []
    },
    {
      "cell_type": "code",
      "source": [
        "<section id=\"hero\" class=\"d-flex fle-column justify-content-center\">\n",
        "<div class=\"container\">\n",
        "  <div class=\"row justify-content-center\">\n",
        "  <div class=\"col-xl-8\">\n",
        "    <h1>Identifying patterns and Trends in Campus Placement Data using Machine Learning</h1>\n",
        "    </div>\n",
        "    </div>\n",
        "    </div>\n",
        "    </section><!--end Hero-->"
      ],
      "metadata": {
        "id": "U-rQjiEk2ocL"
      },
      "execution_count": null,
      "outputs": []
    },
    {
      "cell_type": "code",
      "source": [
        "<section id=\"about\" Class=\"about\">\n",
        "<div Class=\"container\">\n",
        " \n",
        "    <div class=\"section-title\">\n",
        "    <h2>Fill the details</h2>\n",
        "\n",
        "    </div>\n",
        "    <div Class=\"row content\">\n",
        "    <div Class=\"first\">\n",
        "      <form action=\"{{   url_for('y_predict')}}\" methods=\"POST\">\n",
        "      <input type=\"number\" id=\"sen1\" name=\"sen1\" placeholder=\"Age\">\n",
        "      <input type=\"number\" id=\"sen1\" name=\"sen1\" placeholder=\"Gender M(0),F(0)\">\n",
        "      <input type=\"number\" id=\"sen1\" name=\"sen1\" placeholder=\"Stream CS(0),IT(1),ECE(2),Mech(3),EEE(4),Civil(5)\n",
        "      <input type=\"number\" id=\"sen1\" name=\"sen1\" placeholder=\"Internships\">\n",
        "      <input type=\"number\" id=\"sen1\" name=\"sen1\" placeholder=\"CGPA\">\n",
        "      <input type=\"number\" id=\"sen1\" name=\"sen1\" placeholder=\"Number of backlogs\">\n",
        "      <input type=\"submit\" value=\"submit\">\n",
        "\n",
        "\n",
        "       </form>\n",
        "       </div>\n",
        "       </div>\n",
        "        \n",
        "          /div>\n",
        "          </section>\n"
      ],
      "metadata": {
        "id": "0HkptQhyAW0h"
      },
      "execution_count": null,
      "outputs": []
    },
    {
      "cell_type": "code",
      "source": [
        "    <section id=\"hero\" class=\"d-flex fle-column justify-content-center\">\n",
        "    <div class=\"container\">\n",
        "  <div class=\"row justify-content-center\">\n",
        "  <div class=\"col-xl-8\">\n",
        "    <h1>The prediction is :{{y}}</h1>\n",
        "    <h3> 0 represents Notb Placed </h3>\n",
        "    <h3> 1 represents Placed</h3>\n",
        "\n",
        "    \n",
        "    </div>\n",
        "    </div>\n",
        "    </div>\n",
        "    </section><!--end Hero-->\n",
        "  "
      ],
      "metadata": {
        "id": "D8IMfZvcYyO6"
      },
      "execution_count": null,
      "outputs": []
    },
    {
      "cell_type": "code",
      "source": [
        "from pandas.io.pickle import pickle\n",
        "from flask import Flask,render,template,request\n",
        "app=Flask(__name__)\n",
        "import pickle\n",
        "import joblib\n",
        "model=pickle.load(open(\"placement123.pkl\",'rb'))\n",
        "ct=joblib.load('placement')"
      ],
      "metadata": {
        "id": "ZaP4v-YUZzJC"
      },
      "execution_count": null,
      "outputs": []
    },
    {
      "cell_type": "code",
      "source": [
        "@app.route('/')\n",
        "def hello();\n",
        "  return render_template(\"index.html\")"
      ],
      "metadata": {
        "id": "1nTG0-1pbGue"
      },
      "execution_count": null,
      "outputs": []
    },
    {
      "cell_type": "code",
      "source": [
        "@app.route('/guest', methods = [\"POST\"])\n",
        "def Gender();\n",
        "\n",
        "\n",
        "   sen1=request.form[\"sen1\"]\n",
        "   sen2=request.form[\"sen2\"]\n",
        "   sen3=request.form[\"sen3\"]\n",
        "   sen4=request.form[\"sen4\"]\n",
        "   sen5=request.form[\"sen5\"]\n",
        "   sen6=request.form[\"sen6\"]\n",
        "\n",
        "\n",
        "\n",
        "     @app.route('/y_predict', methods = [\"POST\"])\n",
        "     def y_predict():\n",
        "       x_test = [[yo) for yo in request.form.values()]]\n",
        "\n",
        "         prediction =model.predict(x_test)\n",
        "            \n",
        "            prediction = prediction[0]\n",
        "\n",
        "             return render_template(\"secondpage.html\",y=prediction)"
      ],
      "metadata": {
        "id": "aMHVUcOmbako"
      },
      "execution_count": null,
      "outputs": []
    }
  ]
}